{
 "cells": [
  {
   "cell_type": "markdown",
   "id": "44870690-c1c4-4e22-9d94-226736070cc9",
   "metadata": {},
   "source": [
    "# Data Science Tools and Ecosystem"
   ]
  },
  {
   "cell_type": "markdown",
   "id": "99ee5637-20c9-4329-b126-58fd1149d931",
   "metadata": {},
   "source": [
    "In this notebook, Data Science Tools and Ecosystem are summarized."
   ]
  },
  {
   "cell_type": "markdown",
   "id": "d19acf6e-5ade-47ae-939e-6e1f0d3ec5ee",
   "metadata": {},
   "source": [
    "Some of the popular languages that Data Scientists use are:\n",
    "1. Python\n",
    "2. R\n",
    "3. Scala\n",
    "4. Julia"
   ]
  },
  {
   "cell_type": "markdown",
   "id": "a6307d1f-6bae-465a-a542-a6b9d8fa153c",
   "metadata": {},
   "source": [
    "Some of the commonly used libraries used by Data Scietists include:\n",
    "\n",
    "    1. Pandas\n",
    "    2. NumPy\n",
    "    3. Matplot Lib\n",
    "    4. Pytorch\n",
    "    5. Scikit-learn"
   ]
  },
  {
   "cell_type": "markdown",
   "id": "6a1fb9a5-fb33-45d9-a46f-6ed044c484d3",
   "metadata": {},
   "source": [
    "#### Data Science Tools\n",
    "| Data Tools | Type of Tool | Environment |\n",
    "|----------- |---------- | ------------- \n",
    "| MySQL | Data Management Tools | Open Source |\n",
    "| Postgre SQL | Data Management Tools | Open Source |\n",
    "| Mongo DB | Data Management Tools | Open Source |\n",
    "| Hadoop | Data Management Tools | Open Source |\n",
    "| Jupyter | Operating System Tools | Open Source |\n",
    "| R Studio | Operating System Tools | Open Source |\n",
    "| Anaconda Navigator | Operating System Tools | Open Source |\n",
    "| Apache Spark SQL | Data Integration and Transformation Tools | Open Source |\n",
    "| Tableau | Data Visualization  Tools | Open Source |\n",
    "| Power BI | Data Visualization  Tools | Open Source |\n",
    "\n"
   ]
  },
  {
   "cell_type": "markdown",
   "id": "bc792ff5-2cc0-4515-888a-4b7b1ceaea73",
   "metadata": {},
   "source": [
    "### Below are a few examples of evaluating arithmetic expressions in Python"
   ]
  },
  {
   "cell_type": "code",
   "execution_count": 11,
   "id": "93c2800f-efb3-418d-acf1-e5e55a81a409",
   "metadata": {},
   "outputs": [
    {
     "data": {
      "text/plain": [
       "17"
      ]
     },
     "execution_count": 11,
     "metadata": {},
     "output_type": "execute_result"
    }
   ],
   "source": [
    "# This a simple arithmetic expression to mutiply then add integers\n",
    "\n",
    "(3*4)+5"
   ]
  },
  {
   "cell_type": "code",
   "execution_count": 27,
   "id": "90049980-b35b-41f8-8fe9-1f115df4b4fd",
   "metadata": {},
   "outputs": [
    {
     "data": {
      "text/plain": [
       "3.3333333333333335"
      ]
     },
     "execution_count": 27,
     "metadata": {},
     "output_type": "execute_result"
    }
   ],
   "source": [
    "# This will convert 200 minutes to hours by diving by 60\n",
    "\n",
    "minutes = 200\n",
    "hours = minutes / 60 \n",
    "hours"
   ]
  },
  {
   "cell_type": "markdown",
   "id": "4ac573cd-b613-456e-a01a-687757759d2d",
   "metadata": {},
   "source": [
    "__Objective: List popular languages for Data Science__\n",
    "- Python\n",
    "- Julia\n",
    "- R\n",
    "- Scala"
   ]
  },
  {
   "cell_type": "markdown",
   "id": "c8584176-3f0b-4c94-a177-9486e0bd88d4",
   "metadata": {},
   "source": [
    "## Author\n",
    "Deep Shikha"
   ]
  },
  {
   "cell_type": "code",
   "execution_count": null,
   "id": "c24b5d44-216a-427b-a768-5bcf7ce4dc65",
   "metadata": {},
   "outputs": [],
   "source": []
  }
 ],
 "metadata": {
  "kernelspec": {
   "display_name": "anaconda-panel-2023.05-py310",
   "language": "python",
   "name": "conda-env-anaconda-panel-2023.05-py310-py"
  },
  "language_info": {
   "codemirror_mode": {
    "name": "ipython",
    "version": 3
   },
   "file_extension": ".py",
   "mimetype": "text/x-python",
   "name": "python",
   "nbconvert_exporter": "python",
   "pygments_lexer": "ipython3",
   "version": "3.11.5"
  }
 },
 "nbformat": 4,
 "nbformat_minor": 5
}
